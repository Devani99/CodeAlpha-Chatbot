{
 "cells": [
  {
   "cell_type": "code",
   "execution_count": 1,
   "id": "6d12383f-0d02-4eb9-9e93-cb3a704c4afb",
   "metadata": {},
   "outputs": [],
   "source": [
    "import nltk\n",
    "import random\n",
    "from nltk.chat.util import Chat, reflections"
   ]
  },
  {
   "cell_type": "code",
   "execution_count": null,
   "id": "0d8e84f0-aaf3-48c9-baaa-0ca3bbf2be3e",
   "metadata": {},
   "outputs": [
    {
     "name": "stdout",
     "output_type": "stream",
     "text": [
      "Hello! I'm a simple chatbot. You can start chatting with me. Type 'quit' to end the conversation.\n"
     ]
    },
    {
     "name": "stdin",
     "output_type": "stream",
     "text": [
      "You:  hello\n"
     ]
    },
    {
     "name": "stdout",
     "output_type": "stream",
     "text": [
      "ChatBot: Hi, how can I help you?\n"
     ]
    },
    {
     "name": "stdin",
     "output_type": "stream",
     "text": [
      "You:  how are you ?\n"
     ]
    },
    {
     "name": "stdout",
     "output_type": "stream",
     "text": [
      "ChatBot: All good! How about you?\n"
     ]
    },
    {
     "name": "stdin",
     "output_type": "stream",
     "text": [
      "You:  who made you\n"
     ]
    },
    {
     "name": "stdout",
     "output_type": "stream",
     "text": [
      "ChatBot: I was created by an awesome developer using Python and NLTK library.\n"
     ]
    },
    {
     "name": "stdin",
     "output_type": "stream",
     "text": [
      "You:  jokes aside\n"
     ]
    },
    {
     "name": "stdout",
     "output_type": "stream",
     "text": [
      "ChatBot: You are making an explanation video of this project and will be posting on LinkedIn soon enough.\n"
     ]
    }
   ],
   "source": [
    "pairs = [\n",
    "    [\n",
    "        r\"hi|hello|hey\",\n",
    "        [\"Hello!\", \"Hey there!\", \"Hi, how can I help you?\"]\n",
    "    ],\n",
    "    [\n",
    "        r\"how are you?\",\n",
    "        [\"I'm good, thank you!\", \"I'm doing well, thanks for asking and you sir?\", \"All good! How about you?\"]\n",
    "    ],\n",
    "    [\n",
    "        r\"what is your name?\",\n",
    "        [\"You can call me ChatBot.\", \"I'm ChatBot.\", \"I go by the name ChatBot.\"]\n",
    "    ],\n",
    "    [\n",
    "        r\"I am fine\",\n",
    "        [\"Great to hear, So what do you wanna talk about?\"]\n",
    "    ],\n",
    "    [\n",
    "        r\"Do you know what am I doing right now?\",\n",
    "        [\"You are having conversation with me sir, haha\"]\n",
    "    ],\n",
    "    [\n",
    "        r\"quit|bye|goodbye|see ya\",\n",
    "        [\"Bye! Take care.\", \"Goodbye! Have a great day.\", \"See you later!\"]\n",
    "    ],\n",
    "    [\n",
    "        r\"(.*) your name?\",\n",
    "        [\"My name is ChatBot.\", \"I'm ChatBot, nice to meet you!\"]\n",
    "    ],\n",
    "    [\n",
    "        r\"jokes aside\",\n",
    "        [\"You are making an explanation video of this project and will be posting on LinkedIn soon enough.\"]\n",
    "    ],\n",
    "    [\n",
    "        r\"(.*) help (.*)\",\n",
    "        [\"I can help you with various topics. Just ask me anything!\", \"Sure, I'm here to help. What do you need assistance with?\"]\n",
    "    ],\n",
    "    \n",
    "    [\n",
    "        r\"(.*) (location|city) ?\",\n",
    "        [\"I'm a virtual assistant, so I don't have a physical location. But I'm here to assist you wherever you are.\"]\n",
    "    ],\n",
    "    [\n",
    "        r\"(.*) (created|made) you ?\",\n",
    "        [\"I was created by an awesome developer using Python and NLTK library.\"]\n",
    "    ],\n",
    "    [\n",
    "        r\"(.*) (weather|temperature) ?\",\n",
    "        [\"I'm sorry, I don't have access to real-time weather data at the moment.\"]\n",
    "    ],\n",
    "    [\n",
    "        r\"(.*)\",\n",
    "        [\"I'm sorry, I didn't quite understand that. Could you please rephrase or ask something else?\"]\n",
    "    ]\n",
    "]\n",
    "\n",
    "chatbot = Chat(pairs, reflections)\n",
    "\n",
    "def chat():\n",
    "    print(\"Hello! I'm a simple chatbot. You can start chatting with me. Type 'quit' to end the conversation.\")\n",
    "    while True:\n",
    "        user_input = input(\"You: \")\n",
    "        response = chatbot.respond(user_input)\n",
    "        print(\"ChatBot:\", response)\n",
    "        if user_input.lower() == 'quit':\n",
    "            break\n",
    "\n",
    "if __name__ == \"__main__\":\n",
    "    chat()"
   ]
  },
  {
   "cell_type": "code",
   "execution_count": null,
   "id": "4f6f1b15-4b3b-4461-bb51-35573bd06410",
   "metadata": {},
   "outputs": [],
   "source": []
  }
 ],
 "metadata": {
  "kernelspec": {
   "display_name": "Python 3 (ipykernel)",
   "language": "python",
   "name": "python3"
  },
  "language_info": {
   "codemirror_mode": {
    "name": "ipython",
    "version": 3
   },
   "file_extension": ".py",
   "mimetype": "text/x-python",
   "name": "python",
   "nbconvert_exporter": "python",
   "pygments_lexer": "ipython3",
   "version": "3.12.3"
  }
 },
 "nbformat": 4,
 "nbformat_minor": 5
}
